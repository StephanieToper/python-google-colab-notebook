{
  "nbformat": 4,
  "nbformat_minor": 0,
  "metadata": {
    "colab": {
      "provenance": [],
      "authorship_tag": "ABX9TyMuQokBdjTuFf+f+Ir/cm9d",
      "include_colab_link": true
    },
    "kernelspec": {
      "name": "python3",
      "display_name": "Python 3"
    },
    "language_info": {
      "name": "python"
    }
  },
  "cells": [
    {
      "cell_type": "markdown",
      "metadata": {
        "id": "view-in-github",
        "colab_type": "text"
      },
      "source": [
        "<a href=\"https://colab.research.google.com/github/StephanieToper/python-google-colab-notebook/blob/main/Lesson_4_Intro_Python_Grades_4_6.ipynb\" target=\"_parent\"><img src=\"https://colab.research.google.com/assets/colab-badge.svg\" alt=\"Open In Colab\"/></a>"
      ]
    },
    {
      "cell_type": "markdown",
      "source": [
        "**🐢 Functions & Turtle Graphics – Creative Coding Notebook**\n",
        "\n",
        "**👩‍💻 Part 1: What Are Functions**\n"
      ],
      "metadata": {
        "id": "lVATR6A3J5CX"
      }
    },
    {
      "cell_type": "code",
      "execution_count": null,
      "metadata": {
        "id": "z-aWEC_TJyXN"
      },
      "outputs": [],
      "source": [
        "# Let's start with a simple function!\n",
        "def greet():\n",
        "    print(\"Hello, coder!\")\n",
        "\n",
        "# Try calling it!\n",
        "greet()"
      ]
    },
    {
      "cell_type": "markdown",
      "source": [
        "🧠 Challenge: Change the message inside greet() to say something else"
      ],
      "metadata": {
        "id": "ExxUCBU2KFI6"
      }
    },
    {
      "cell_type": "markdown",
      "source": [
        "**🤖 Part 2: Robot Moves – Pre-Turtle Practic**"
      ],
      "metadata": {
        "id": "O2qde0v6TZNX"
      }
    },
    {
      "cell_type": "code",
      "source": [
        "# Define your robot's actions\n",
        "def say_hello():\n",
        "    print(\"Hello, friend!\")\n",
        "\n",
        "def dance_move():\n",
        "    print(\"Step left!\")\n",
        "    print(\"Step right!\")\n",
        "    print(\"Spin around!\")\n",
        "\n",
        "# Call your robot functions\n",
        "say_hello()\n",
        "dance_move()"
      ],
      "metadata": {
        "id": "LzoEJBaaKERT"
      },
      "execution_count": null,
      "outputs": []
    },
    {
      "cell_type": "markdown",
      "source": [
        "🎨 Mini-Challenge: Create your own function like make_a_smoothie() or do_magic() with 3 fun steps using print().\n"
      ],
      "metadata": {
        "id": "dZUB7Sg2LVFE"
      }
    },
    {
      "cell_type": "markdown",
      "source": [
        "**🐢 Part 3: Drawing with ColabTurtle**\n"
      ],
      "metadata": {
        "id": "6dxRf08ZLY2S"
      }
    },
    {
      "cell_type": "code",
      "source": [
        "# Step 1: Install ColabTurtle (only run once)\n",
        "!pip install ColabTurtle\n",
        "\n",
        "# Step 2: Import and set up\n",
        "from ColabTurtle.Turtle import *\n",
        "initializeTurtle()\n",
        "speed(5)"
      ],
      "metadata": {
        "id": "w4PIccWsLiEi"
      },
      "execution_count": null,
      "outputs": []
    },
    {
      "cell_type": "code",
      "source": [
        "# Step 3: Draw a square\n",
        "def draw_square():\n",
        "    for _ in range(4):\n",
        "        forward(100)\n",
        "        left(90)\n",
        "\n",
        "# Try it out!\n",
        "draw_square()"
      ],
      "metadata": {
        "id": "mXCPMxD8LqPn"
      },
      "execution_count": null,
      "outputs": []
    },
    {
      "cell_type": "markdown",
      "source": [
        "🌟 Try changing: the number of sides, the length, or the turning angle"
      ],
      "metadata": {
        "id": "CmQv7hGRLte9"
      }
    },
    {
      "cell_type": "markdown",
      "source": [
        "**🌸 Part 4: Flower Pattern with Loops**\n"
      ],
      "metadata": {
        "id": "qTuoC0meLzcr"
      }
    },
    {
      "cell_type": "code",
      "source": [
        "# Create a flower using squares and rotation\n",
        "def draw_flower():\n",
        "    for _ in range(36):  # 36 petals\n",
        "        draw_square()\n",
        "        left(10) #- rotates the turtle 10 degrees to the left after drawing each square.\n",
        "\n",
        "# Run it!\n",
        "draw_flower()"
      ],
      "metadata": {
        "id": "cBM6ST7cLssC"
      },
      "execution_count": null,
      "outputs": []
    },
    {
      "cell_type": "markdown",
      "source": [
        "🎨 Try changing: the number of petals or the rotation angle to see different patterns!"
      ],
      "metadata": {
        "id": "U9Bvbt9kL7K7"
      }
    },
    {
      "cell_type": "markdown",
      "source": [
        "**🎆 Part 5: Mini Project – Firework Starburst**\n"
      ],
      "metadata": {
        "id": "4XQOsM4iMBl9"
      }
    },
    {
      "cell_type": "code",
      "source": [
        "initializeTurtle()\n",
        "speed(5)\n",
        "\n",
        "# Create a firework burst\n",
        "def firework_burst():\n",
        "    for _ in range(8):  # 8 rays\n",
        "        forward(60)\n",
        "        backward(60)\n",
        "        left(45)\n",
        "\n",
        "# Draw multiple bursts in a circle\n",
        "for _ in range(6):  # 6 bursts\n",
        "    firework_burst()\n",
        "    left(60)"
      ],
      "metadata": {
        "id": "0CXj5XeRMpEN"
      },
      "execution_count": null,
      "outputs": []
    },
    {
      "cell_type": "markdown",
      "source": [
        "✨ Customize it!\n",
        "- Change the number of rays or bursts\n",
        "- Add color(\"red\") or color(\"blue\")\n",
        "- Use penup(), setposition(), and pendown() to move the turtle\n"
      ],
      "metadata": {
        "id": "JapDwMvHKVAw"
      }
    },
    {
      "cell_type": "markdown",
      "source": [
        "🏆 Bonus Challenge: Design Your Own Art!\n",
        "\n",
        "Create your own function like draw_star(), draw_spiral(), or draw_mandala() and use loops to repeat it.\n"
      ],
      "metadata": {
        "id": "TULkesvPKX5u"
      }
    },
    {
      "cell_type": "code",
      "source": [
        "initializeTurtle()\n",
        "speed(5)\n",
        "\n",
        "# Example template\n",
        "def draw_star():\n",
        "    for _ in range(5):\n",
        "        forward(100)\n",
        "        right(144)\n",
        "\n",
        "# Repeat your design\n",
        "for _ in range(10):\n",
        "    draw_star()\n",
        "    right(36)"
      ],
      "metadata": {
        "id": "HtE5EFL6MvxK"
      },
      "execution_count": null,
      "outputs": []
    }
  ]
}